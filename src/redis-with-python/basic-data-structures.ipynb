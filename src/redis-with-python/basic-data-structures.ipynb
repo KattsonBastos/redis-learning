{
 "cells": [
  {
   "cell_type": "markdown",
   "id": "985d798a-490e-49e1-a078-58acdc3fbc7f",
   "metadata": {},
   "source": [
    "# Dealing With Data Structures"
   ]
  },
  {
   "cell_type": "markdown",
   "id": "2e730f32-32bc-41ac-9796-834c26249495",
   "metadata": {},
   "source": [
    "In this notebook, we'll go through the creation, insertion, deletion, and general use of redis data structures with python.\n",
    "\n",
    "To be more specific, we'll cover the following data structures:\n",
    "\n",
    "- _String_\n",
    "- _Sets_\n",
    "- _Ordered Sets_\n",
    "- _Hashes_"
   ]
  },
  {
   "cell_type": "markdown",
   "id": "deed8fb5-c08b-4fe4-94da-d42a60b9175c",
   "metadata": {},
   "source": [
    "## Importing"
   ]
  },
  {
   "cell_type": "code",
   "execution_count": 1,
   "id": "18761c64-0627-4a46-b9ec-888ecd3c7f05",
   "metadata": {},
   "outputs": [],
   "source": [
    "import time\n",
    "import redis"
   ]
  },
  {
   "cell_type": "markdown",
   "id": "c3de2f14-9c82-4fb9-85ed-e6741dcbc61d",
   "metadata": {},
   "source": [
    "## Creating The Client"
   ]
  },
  {
   "cell_type": "code",
   "execution_count": 2,
   "id": "429a7edb-4c65-4455-b171-936be6b01f00",
   "metadata": {},
   "outputs": [],
   "source": [
    " redisCon = redis.Redis(\n",
    "     host= '172.19.0.1',\n",
    "     port= '6379')"
   ]
  },
  {
   "cell_type": "markdown",
   "id": "78477beb-73e9-49c9-9a47-43801bb6273d",
   "metadata": {},
   "source": [
    "## 0. General Commands"
   ]
  },
  {
   "cell_type": "markdown",
   "id": "743d13ad-4a1c-4d69-ba47-bd52f762d401",
   "metadata": {},
   "source": [
    "Check if key exists (returns `1` if exists, `0` otherwise):"
   ]
  },
  {
   "cell_type": "code",
   "execution_count": 3,
   "id": "c6dcde74-6e73-4fbe-8126-74fab551a8e3",
   "metadata": {},
   "outputs": [
    {
     "data": {
      "text/plain": [
       "0"
      ]
     },
     "execution_count": 3,
     "metadata": {},
     "output_type": "execute_result"
    }
   ],
   "source": [
    "redisCon.exists(\"user:logged\")"
   ]
  },
  {
   "cell_type": "markdown",
   "id": "8671c87a-0a8f-4566-8b0e-e3487246705e",
   "metadata": {},
   "source": [
    "Check the key type:"
   ]
  },
  {
   "cell_type": "code",
   "execution_count": 4,
   "id": "c5c19c46-fb51-493c-aaab-1bcd5e330c01",
   "metadata": {},
   "outputs": [
    {
     "data": {
      "text/plain": [
       "b'string'"
      ]
     },
     "execution_count": 4,
     "metadata": {},
     "output_type": "execute_result"
    }
   ],
   "source": [
    "# creating a string\n",
    "redisCon.set(\"request:status\", \"Ok\")\n",
    "\n",
    "# checking the type\n",
    "redisCon.type(\"request:status\")"
   ]
  },
  {
   "cell_type": "markdown",
   "id": "217b0253-5162-47f9-a0d5-c61cf60bc8cd",
   "metadata": {
    "jp-MarkdownHeadingCollapsed": true,
    "tags": []
   },
   "source": [
    "## 1. Strings"
   ]
  },
  {
   "cell_type": "markdown",
   "id": "a874fa3f-0bcd-434e-a6e5-a14ac84190bd",
   "metadata": {},
   "source": [
    "### 1.1. Creation"
   ]
  },
  {
   "cell_type": "markdown",
   "id": "c5c40666-b23d-4a4d-88b8-3bfd268c3bfa",
   "metadata": {},
   "source": [
    "The creation and retrieval of strings are done with `set` and `get` methods, respectively.\n",
    "\n",
    "Basic Sintax:\n",
    "\n",
    "- `redisCon.set(\"<key>\", \"<value>\")`\n",
    "- `redisCon.get(\"<key>\")`"
   ]
  },
  {
   "cell_type": "code",
   "execution_count": 5,
   "id": "a69d6ef0-b368-4fa9-a919-4df605096219",
   "metadata": {},
   "outputs": [
    {
     "data": {
      "text/plain": [
       "True"
      ]
     },
     "execution_count": 5,
     "metadata": {},
     "output_type": "execute_result"
    }
   ],
   "source": [
    "# creating a key status with value Ok\n",
    "redisCon.set(\"request:status\", \"Ok\")"
   ]
  },
  {
   "cell_type": "code",
   "execution_count": 6,
   "id": "6862f7c1-c922-409b-a4b6-73e1901b47ac",
   "metadata": {},
   "outputs": [
    {
     "data": {
      "text/plain": [
       "b'Ok'"
      ]
     },
     "execution_count": 6,
     "metadata": {},
     "output_type": "execute_result"
    }
   ],
   "source": [
    "# retrieving the value of status\n",
    "redisCon.get(\"request:status\")"
   ]
  },
  {
   "cell_type": "markdown",
   "id": "8eaeca5d-50df-4204-870a-df3d5a134c99",
   "metadata": {},
   "source": [
    "In this case, we can use it many times, that is, it doesn't remove the key-value from memory:"
   ]
  },
  {
   "cell_type": "code",
   "execution_count": 7,
   "id": "daa765dd-765e-4d7a-a493-5d6d326b3499",
   "metadata": {},
   "outputs": [
    {
     "data": {
      "text/plain": [
       "b'Ok'"
      ]
     },
     "execution_count": 7,
     "metadata": {},
     "output_type": "execute_result"
    }
   ],
   "source": [
    "# retrieving the value of status\n",
    "redisCon.get(\"request:status\")"
   ]
  },
  {
   "cell_type": "markdown",
   "id": "d7d6110b-c2c5-4729-8ba7-6aaf1955ae9a",
   "metadata": {},
   "source": [
    "We can also define what do we want to do if the key name already exists.\n",
    "\n",
    "Redis allows us to take that decision based on the flowwing two parameters:\n",
    "\n",
    "- `NX`: fail the creation if already exists\n",
    "- `XX`: replace if key already exists"
   ]
  },
  {
   "cell_type": "markdown",
   "id": "4a2d05ed-a45f-4175-a49b-5bbf9c00a8ff",
   "metadata": {},
   "source": [
    "So, we can use try to create another key called `status`, but with a different value:"
   ]
  },
  {
   "cell_type": "markdown",
   "id": "bcb6e04d-96db-4366-9648-74e9c82e4143",
   "metadata": {},
   "source": [
    "### 1.2. Creation With Existence Checking"
   ]
  },
  {
   "cell_type": "code",
   "execution_count": 8,
   "id": "0972af45-a9ca-49b6-be33-2ada3d71c55f",
   "metadata": {},
   "outputs": [],
   "source": [
    "redisCon.set(\"request:status\", \"Fail\", nx=True)"
   ]
  },
  {
   "cell_type": "markdown",
   "id": "961b8d26-61e6-49f6-ac07-e299b6e29cfe",
   "metadata": {},
   "source": [
    "And then we can check the result. As we can see, the value didn't change:"
   ]
  },
  {
   "cell_type": "code",
   "execution_count": 9,
   "id": "93342bb8-7017-4797-a9cd-df28acfe5254",
   "metadata": {},
   "outputs": [
    {
     "data": {
      "text/plain": [
       "b'Ok'"
      ]
     },
     "execution_count": 9,
     "metadata": {},
     "output_type": "execute_result"
    }
   ],
   "source": [
    "redisCon.get(\"request:status\")"
   ]
  },
  {
   "cell_type": "markdown",
   "id": "fbc3c9e3-4ff9-436c-89b9-f26977b23745",
   "metadata": {},
   "source": [
    "If we want to replace it, we should pass `True` to the `xx` value:"
   ]
  },
  {
   "cell_type": "code",
   "execution_count": 10,
   "id": "a51f06fb-0b3b-40df-812c-0cba29ebe2a3",
   "metadata": {},
   "outputs": [
    {
     "data": {
      "text/plain": [
       "True"
      ]
     },
     "execution_count": 10,
     "metadata": {},
     "output_type": "execute_result"
    }
   ],
   "source": [
    "redisCon.set(\"request:status\", \"Fail\", xx=True)"
   ]
  },
  {
   "cell_type": "markdown",
   "id": "1761a150-4f17-4220-97f7-e5b4a809c420",
   "metadata": {},
   "source": [
    "Now we'll see that it has changed:"
   ]
  },
  {
   "cell_type": "code",
   "execution_count": 11,
   "id": "eab0268e-a609-4129-aaf9-dca01f818e6c",
   "metadata": {},
   "outputs": [
    {
     "data": {
      "text/plain": [
       "b'Fail'"
      ]
     },
     "execution_count": 11,
     "metadata": {},
     "output_type": "execute_result"
    }
   ],
   "source": [
    "redisCon.get(\"request:status\")"
   ]
  },
  {
   "cell_type": "markdown",
   "id": "9e82fbbc-cd02-475b-89bf-1150c2596ef2",
   "metadata": {
    "tags": []
   },
   "source": [
    "### 1.3. Creation With An Expiration Flag"
   ]
  },
  {
   "cell_type": "markdown",
   "id": "25db117e-42a4-43b4-8062-975c3ffaebab",
   "metadata": {},
   "source": [
    "The creating method brings us two ways of passing expiration time:\n",
    "\n",
    "- `ex`: expiration in seconds\n",
    "- `px`: expiration in milliseconds"
   ]
  },
  {
   "cell_type": "markdown",
   "id": "d8f409e2-e9cb-4edd-8742-38cd5a7fd158",
   "metadata": {},
   "source": [
    "In order to help checking the persistence time, we'll use the `sleep` method of `time` library."
   ]
  },
  {
   "cell_type": "code",
   "execution_count": 12,
   "id": "3c91c157-7357-4cc3-9d20-310946b18b4e",
   "metadata": {},
   "outputs": [
    {
     "name": "stdout",
     "output_type": "stream",
     "text": [
      "Created:  True\n",
      "Retrieving the key. Value:  b'Ok'\n"
     ]
    }
   ],
   "source": [
    "print(\"Created: \",redisCon.set(\"request:status\", \"Ok\", ex=2))\n",
    "time.sleep(1)\n",
    "print(\"Retrieving the key. Value: \", redisCon.get(\"request:status\"))"
   ]
  },
  {
   "cell_type": "code",
   "execution_count": 13,
   "id": "a5c3e3a6-4c3e-450c-aa48-a2288f67dff0",
   "metadata": {},
   "outputs": [
    {
     "name": "stdout",
     "output_type": "stream",
     "text": [
      "Created:  True\n",
      "Retrieving the key. Value:  None\n"
     ]
    }
   ],
   "source": [
    "print(\"Created: \",redisCon.set(\"request:status\", \"Ok\", ex=2))\n",
    "time.sleep(3)\n",
    "print(\"Retrieving the key. Value: \", redisCon.get(\"request:status\"))"
   ]
  },
  {
   "cell_type": "markdown",
   "id": "5432d5d6-06e6-47bf-a077-a32727e03328",
   "metadata": {},
   "source": [
    "We can also check the remaining time of a key:"
   ]
  },
  {
   "cell_type": "code",
   "execution_count": 14,
   "id": "f0a7e8ee-3b99-4c48-b346-c89c2de1c0ad",
   "metadata": {},
   "outputs": [
    {
     "name": "stdout",
     "output_type": "stream",
     "text": [
      "Created:  True\n",
      "Remaining time in seconds:  2\n"
     ]
    }
   ],
   "source": [
    "# retrieving in seconds\n",
    "print(\"Created: \",redisCon.set(\"request:status\", \"Ok\", ex=2))\n",
    "print(\"Remaining time in seconds: \", redisCon.ttl(\"request:status\"))"
   ]
  },
  {
   "cell_type": "code",
   "execution_count": 15,
   "id": "d80795cb-40a1-4532-a3af-773c91f0a1fb",
   "metadata": {},
   "outputs": [
    {
     "name": "stdout",
     "output_type": "stream",
     "text": [
      "Created:  True\n",
      "Remaining time milliseconds:  2000\n"
     ]
    }
   ],
   "source": [
    "# retrieving in milliseconds\n",
    "print(\"Created: \",redisCon.set(\"request:status\", \"Ok\", ex=2))\n",
    "print(\"Remaining time milliseconds: \", redisCon.pttl(\"request:status\"))"
   ]
  },
  {
   "cell_type": "markdown",
   "id": "33c3b373-2fe4-4f28-8a43-1c9f7cad1fcb",
   "metadata": {},
   "source": [
    "We can also remove the expiration time of a key. The method `persist` does that by setting the expiration time to max (`-1`)"
   ]
  },
  {
   "cell_type": "code",
   "execution_count": 16,
   "id": "f413971c-5ab0-4ba4-a980-6c4b1c5afc5a",
   "metadata": {},
   "outputs": [
    {
     "name": "stdout",
     "output_type": "stream",
     "text": [
      "Created:  True\n",
      "Remaining time milliseconds:  2000\n",
      "Removing expiration time:  True\n",
      "Remaining time milliseconds:  -1\n"
     ]
    }
   ],
   "source": [
    "# retrieving in milliseconds\n",
    "print(\"Created: \",redisCon.set(\"request:status\", \"Ok\", ex=2))\n",
    "print(\"Remaining time milliseconds: \", redisCon.pttl(\"request:status\"))\n",
    "\n",
    "print(\"Removing expiration time: \", redisCon.persist(\"request:status\"))\n",
    "print(\"Remaining time milliseconds: \", redisCon.pttl(\"request:status\"))"
   ]
  },
  {
   "cell_type": "markdown",
   "id": "b745e808-cdf6-4b43-8dd0-646d04226cb1",
   "metadata": {},
   "source": [
    "### 1.4. Checking the Value size"
   ]
  },
  {
   "cell_type": "markdown",
   "id": "6bb8362f-2cdb-4fb8-82f2-ec1fcef95d4f",
   "metadata": {},
   "source": [
    "`strlen` method allows us to check the length of a string key value:"
   ]
  },
  {
   "cell_type": "code",
   "execution_count": 17,
   "id": "118ba3aa-d627-4d36-a3dd-f65fdd071ad8",
   "metadata": {},
   "outputs": [
    {
     "name": "stdout",
     "output_type": "stream",
     "text": [
      "Created:  True\n",
      "Key's value size:  2\n"
     ]
    }
   ],
   "source": [
    "print(\"Created: \",redisCon.set(\"request:status\", \"Ok\", ex=2))\n",
    "print(\"Key's value size: \", redisCon.strlen(\"request:status\"))"
   ]
  },
  {
   "cell_type": "markdown",
   "id": "c1e0a29d-5fd8-46d0-9839-3cc59b0dd21d",
   "metadata": {},
   "source": [
    "### 1.5. Increment and Decrement Values"
   ]
  },
  {
   "cell_type": "markdown",
   "id": "574a3e1f-4f06-457b-ad32-d706d6471a23",
   "metadata": {},
   "source": [
    "Increment or decrement by 1 unit:"
   ]
  },
  {
   "cell_type": "code",
   "execution_count": 18,
   "id": "eeefb920-8464-41a9-8007-a2afb25ce846",
   "metadata": {},
   "outputs": [
    {
     "name": "stdout",
     "output_type": "stream",
     "text": [
      "Created:  True\n",
      "Incrementing one unit:  2\n",
      "Decrementing one unit:  1\n"
     ]
    }
   ],
   "source": [
    "print(\"Created: \",redisCon.set(\"request:month\", \"1\"))\n",
    "print(\"Incrementing one unit: \", redisCon.incr(\"request:month\"))\n",
    "print(\"Decrementing one unit: \", redisCon.decr(\"request:month\"))"
   ]
  },
  {
   "cell_type": "markdown",
   "id": "c988cfa4-764f-48a3-b692-46e787e8714d",
   "metadata": {},
   "source": [
    "Increment and decrement with a specified value:"
   ]
  },
  {
   "cell_type": "code",
   "execution_count": 19,
   "id": "d4f5af3c-f812-4d6b-ab52-e9386afbcb99",
   "metadata": {},
   "outputs": [
    {
     "name": "stdout",
     "output_type": "stream",
     "text": [
      "Created:  True\n",
      "Incrementing 10 units  11\n",
      "Decrementing 5 units:  6\n"
     ]
    }
   ],
   "source": [
    "print(\"Created: \",redisCon.set(\"request:month\", \"1\"))\n",
    "print(\"Incrementing 10 units \", redisCon.incr(\"request:month\", 10))\n",
    "print(\"Decrementing 5 units: \", redisCon.decr(\"request:month\", 5))"
   ]
  },
  {
   "cell_type": "markdown",
   "id": "697e39f1-7482-4f66-9195-ebd296c28fe8",
   "metadata": {},
   "source": [
    "We can also use `incrby` and `decrby`:"
   ]
  },
  {
   "cell_type": "code",
   "execution_count": 20,
   "id": "0ff0769b-d226-4e62-afa6-de3728c6c848",
   "metadata": {},
   "outputs": [
    {
     "name": "stdout",
     "output_type": "stream",
     "text": [
      "Created:  True\n",
      "Incrementing 10 units  11\n",
      "Decrementing 5 units:  6\n"
     ]
    }
   ],
   "source": [
    "print(\"Created: \",redisCon.set(\"request:month\", \"1\"))\n",
    "print(\"Incrementing 10 units \", redisCon.incrby(\"request:month\", 10))\n",
    "print(\"Decrementing 5 units: \", redisCon.decrby(\"request:month\", 5))"
   ]
  },
  {
   "cell_type": "markdown",
   "id": "27ec1213-e4cb-48d9-a552-a6d40b4f5021",
   "metadata": {},
   "source": [
    "### 1.6. Creation and Retrieval of Multiple Keys in a row"
   ]
  },
  {
   "cell_type": "markdown",
   "id": "7596a051-4bca-49c7-a823-3c6339b4bf95",
   "metadata": {},
   "source": [
    "The method `mset` allows us to create multiple string key-value pairs at the same time."
   ]
  },
  {
   "cell_type": "code",
   "execution_count": 21,
   "id": "57b2a5b2-4437-4013-9f7c-0110fe428140",
   "metadata": {},
   "outputs": [
    {
     "name": "stdout",
     "output_type": "stream",
     "text": [
      "Created:  True\n"
     ]
    }
   ],
   "source": [
    "print(\"Created: \",redisCon.mset({\n",
    "    \"request:start_year\": \"2000\", \n",
    "    \"request:last_year\": \"2020\"\n",
    "    })\n",
    ")"
   ]
  },
  {
   "cell_type": "markdown",
   "id": "ef8734d9-79c2-4021-a800-fe5ff3dd895a",
   "metadata": {},
   "source": [
    "In the same way, `mget` receives an iterable of created keys and returns a list containing their values:"
   ]
  },
  {
   "cell_type": "code",
   "execution_count": 22,
   "id": "758609d4-612e-4618-b643-c8de472a646d",
   "metadata": {},
   "outputs": [
    {
     "name": "stdout",
     "output_type": "stream",
     "text": [
      "Retrieved:  [b'2000', b'2020']\n"
     ]
    }
   ],
   "source": [
    "print(\"Retrieved: \",redisCon.mget([\n",
    "    \"request:start_year\", \"request:last_year\"\n",
    "    ])\n",
    ")"
   ]
  },
  {
   "cell_type": "markdown",
   "id": "310955ae-6381-49f3-9ef3-2295fb14f45f",
   "metadata": {},
   "source": [
    "### 1.7. Deleting a Key"
   ]
  },
  {
   "cell_type": "code",
   "execution_count": 23,
   "id": "34cea8f8-8010-4440-ac0d-a9d1fe035c95",
   "metadata": {},
   "outputs": [
    {
     "data": {
      "text/plain": [
       "1"
      ]
     },
     "execution_count": 23,
     "metadata": {},
     "output_type": "execute_result"
    }
   ],
   "source": [
    "redisCon.delete(\"request:start_year\")"
   ]
  },
  {
   "cell_type": "markdown",
   "id": "2e4129ee-f938-4bb0-ad54-e84b4b2b75a8",
   "metadata": {},
   "source": [
    "Cheking if the key still ecists:"
   ]
  },
  {
   "cell_type": "code",
   "execution_count": 24,
   "id": "c498bb2a-c940-45b5-bdc3-31eecc6ec0fe",
   "metadata": {},
   "outputs": [
    {
     "name": "stdout",
     "output_type": "stream",
     "text": [
      "Does the key still exist?  0\n"
     ]
    }
   ],
   "source": [
    "print(\"Does the key still exist? \", redisCon.exists(\"request:start_year\"))"
   ]
  },
  {
   "cell_type": "markdown",
   "id": "95e74a5b-ad8c-4467-8e33-e35a3304509d",
   "metadata": {
    "jp-MarkdownHeadingCollapsed": true,
    "tags": []
   },
   "source": [
    "## 2. Lists"
   ]
  },
  {
   "cell_type": "markdown",
   "id": "2cd16a8f-74c5-4025-8431-761d6a7f4f76",
   "metadata": {},
   "source": [
    "Here with python we can also create and add values to a list on the left or on the right."
   ]
  },
  {
   "cell_type": "markdown",
   "id": "c28ef63a-fdad-4cea-b20e-ff3317e3aa53",
   "metadata": {},
   "source": [
    "Adding to the left:"
   ]
  },
  {
   "cell_type": "markdown",
   "id": "5da9697b-5548-4e1e-9789-76e33804b876",
   "metadata": {},
   "source": [
    "### 2.1. Inserting Values to the Left and Right"
   ]
  },
  {
   "cell_type": "code",
   "execution_count": 25,
   "id": "616d5481-5b34-442e-ba19-24c31a99a045",
   "metadata": {},
   "outputs": [
    {
     "data": {
      "text/plain": [
       "3"
      ]
     },
     "execution_count": 25,
     "metadata": {},
     "output_type": "execute_result"
    }
   ],
   "source": [
    "redisCon.lpush(\"cash:in\", 'l5','l3')"
   ]
  },
  {
   "cell_type": "markdown",
   "id": "cf8e232f-92f1-4065-892a-ea83e369c503",
   "metadata": {},
   "source": [
    "Adding to the right:"
   ]
  },
  {
   "cell_type": "code",
   "execution_count": 26,
   "id": "4e5db245-a8cd-4dad-878a-6ff0fe504e58",
   "metadata": {},
   "outputs": [
    {
     "data": {
      "text/plain": [
       "5"
      ]
     },
     "execution_count": 26,
     "metadata": {},
     "output_type": "execute_result"
    }
   ],
   "source": [
    "redisCon.rpush(\"cash:in\", 'r2','r9')"
   ]
  },
  {
   "cell_type": "markdown",
   "id": "1809af2d-e513-425e-bab3-82c1ee7983cf",
   "metadata": {},
   "source": [
    "### 2.2. Getting Values from a range"
   ]
  },
  {
   "cell_type": "code",
   "execution_count": 27,
   "id": "e18f42e1-9b1a-47d2-9fd1-40fe4582a193",
   "metadata": {},
   "outputs": [
    {
     "data": {
      "text/plain": [
       "[b'l3', b'l5', b'l5', b'r2', b'r9']"
      ]
     },
     "execution_count": 27,
     "metadata": {},
     "output_type": "execute_result"
    }
   ],
   "source": [
    "redisCon.lrange('cash:in', 0, -1)"
   ]
  },
  {
   "cell_type": "markdown",
   "id": "40ec8f43-67b7-46f8-a604-0b0e9a888f4b",
   "metadata": {
    "tags": []
   },
   "source": [
    "### 2.3. Getting the list size"
   ]
  },
  {
   "cell_type": "code",
   "execution_count": 28,
   "id": "dc627bcd-d70f-411a-9f6f-e257f3caadc4",
   "metadata": {},
   "outputs": [
    {
     "data": {
      "text/plain": [
       "5"
      ]
     },
     "execution_count": 28,
     "metadata": {},
     "output_type": "execute_result"
    }
   ],
   "source": [
    "redisCon.llen('cash:in')"
   ]
  },
  {
   "cell_type": "markdown",
   "id": "c96067b1-cae4-4c42-9f16-73265ccbf148",
   "metadata": {},
   "source": [
    "### 2.4. Retrieving and Poping from list"
   ]
  },
  {
   "cell_type": "markdown",
   "id": "b483e843-3b86-4448-90a5-4ca65e29a79a",
   "metadata": {},
   "source": [
    "Retrieving from the left:"
   ]
  },
  {
   "cell_type": "code",
   "execution_count": 29,
   "id": "e23d0bc9-2ef1-487a-90e8-3da57e638f02",
   "metadata": {},
   "outputs": [
    {
     "data": {
      "text/plain": [
       "b'l3'"
      ]
     },
     "execution_count": 29,
     "metadata": {},
     "output_type": "execute_result"
    }
   ],
   "source": [
    "redisCon.lpop(\"cash:in\")"
   ]
  },
  {
   "cell_type": "markdown",
   "id": "ee9527a7-dfff-47c5-99cc-2148ef0657af",
   "metadata": {},
   "source": [
    "As we can see in the following output, it removes the item from the list:"
   ]
  },
  {
   "cell_type": "code",
   "execution_count": 30,
   "id": "d417e082-7224-43ac-826a-18fc791947a3",
   "metadata": {},
   "outputs": [
    {
     "data": {
      "text/plain": [
       "[b'l5', b'l5', b'r2', b'r9']"
      ]
     },
     "execution_count": 30,
     "metadata": {},
     "output_type": "execute_result"
    }
   ],
   "source": [
    "redisCon.lrange('cash:in', 0, -1)"
   ]
  },
  {
   "cell_type": "markdown",
   "id": "c6a55ab1-509b-48af-a8ab-85acb4c33552",
   "metadata": {},
   "source": [
    "Retrieving from the right:"
   ]
  },
  {
   "cell_type": "code",
   "execution_count": 31,
   "id": "168d8937-d9d8-40f1-b62c-7f155ce0fc2c",
   "metadata": {},
   "outputs": [
    {
     "data": {
      "text/plain": [
       "b'r9'"
      ]
     },
     "execution_count": 31,
     "metadata": {},
     "output_type": "execute_result"
    }
   ],
   "source": [
    "redisCon.rpop(\"cash:in\")"
   ]
  },
  {
   "cell_type": "code",
   "execution_count": 32,
   "id": "165bdf79-8945-48d8-a88f-d9c43a79170d",
   "metadata": {},
   "outputs": [
    {
     "data": {
      "text/plain": [
       "[b'l5', b'l5', b'r2']"
      ]
     },
     "execution_count": 32,
     "metadata": {},
     "output_type": "execute_result"
    }
   ],
   "source": [
    "redisCon.lrange('cash:in', 0, -1)"
   ]
  },
  {
   "cell_type": "markdown",
   "id": "ca89f9f8-6b38-4cc2-b89b-e16f60af2273",
   "metadata": {},
   "source": [
    "### 2.5. Slicing a list (inplace default)"
   ]
  },
  {
   "cell_type": "markdown",
   "id": "f7a561cd-da70-4151-b16f-2f4eeb20b52c",
   "metadata": {},
   "source": [
    "We can use `ltrim` to slice a list and it automatically save the list with the sliced items.\n",
    "\n",
    "The parameters are:\n",
    "\n",
    "- `name`: key name\n",
    "- `start`: the index to start\n",
    "- `end`: index to end"
   ]
  },
  {
   "cell_type": "markdown",
   "id": "da79bc77-d4ec-40d9-8d6d-32d9a05260a2",
   "metadata": {},
   "source": [
    "In our case, after the above extractions, we ended up with only two items.\n",
    "\n",
    "So, we'll slice only to the first value:"
   ]
  },
  {
   "cell_type": "code",
   "execution_count": 33,
   "id": "365dc010-22e0-47f5-be66-aab1b6ed2841",
   "metadata": {},
   "outputs": [
    {
     "data": {
      "text/plain": [
       "True"
      ]
     },
     "execution_count": 33,
     "metadata": {},
     "output_type": "execute_result"
    }
   ],
   "source": [
    "redisCon.ltrim(\"cash:in\", 0, 0)"
   ]
  },
  {
   "cell_type": "code",
   "execution_count": 34,
   "id": "b8cb3bc9-0600-4b75-91a6-224c05a09ab3",
   "metadata": {},
   "outputs": [
    {
     "data": {
      "text/plain": [
       "[b'l5']"
      ]
     },
     "execution_count": 34,
     "metadata": {},
     "output_type": "execute_result"
    }
   ],
   "source": [
    "redisCon.lrange('cash:in', 0, -1)"
   ]
  },
  {
   "cell_type": "markdown",
   "id": "2c3c046f-62c1-465d-a0d0-4bf05ebe6581",
   "metadata": {
    "jp-MarkdownHeadingCollapsed": true,
    "tags": []
   },
   "source": [
    "## 3. Sets"
   ]
  },
  {
   "cell_type": "markdown",
   "id": "bdbec576-4331-448e-9bc3-08fd05c0e7e8",
   "metadata": {},
   "source": [
    "Sets are an unordered collection of strings."
   ]
  },
  {
   "cell_type": "markdown",
   "id": "bb947bff-21f6-4100-b2a6-3888669931af",
   "metadata": {},
   "source": [
    "### 3.1. Creation and Insertion"
   ]
  },
  {
   "cell_type": "code",
   "execution_count": 35,
   "id": "cf1c9882-12b9-48b9-8838-a387471ffa84",
   "metadata": {},
   "outputs": [
    {
     "data": {
      "text/plain": [
       "1"
      ]
     },
     "execution_count": 35,
     "metadata": {},
     "output_type": "execute_result"
    }
   ],
   "source": [
    "redisCon.sadd(\"customer:names\", \"c1\", \"c2\", \"c3\")"
   ]
  },
  {
   "cell_type": "markdown",
   "id": "47ef0bfe-3d1c-4e4d-b4b7-3c67389a1fb8",
   "metadata": {},
   "source": [
    "### 3.2. Listing Members"
   ]
  },
  {
   "cell_type": "code",
   "execution_count": 36,
   "id": "54dadf95-3fec-43fc-86f6-4617bb60a159",
   "metadata": {},
   "outputs": [
    {
     "data": {
      "text/plain": [
       "{b'c1', b'c2', b'c3'}"
      ]
     },
     "execution_count": 36,
     "metadata": {},
     "output_type": "execute_result"
    }
   ],
   "source": [
    "redisCon.smembers('customer:names')"
   ]
  },
  {
   "cell_type": "markdown",
   "id": "7809a109-a578-4733-a347-13b13758426b",
   "metadata": {},
   "source": [
    "### 3.3. Retrieving and Removing a Random Member"
   ]
  },
  {
   "cell_type": "markdown",
   "id": "33f64d24-7448-4bd1-beb0-b8e886b0bceb",
   "metadata": {},
   "source": [
    "By default, the following method retrive and remove a random member:"
   ]
  },
  {
   "cell_type": "code",
   "execution_count": 37,
   "id": "36c16654-be30-4059-8a89-29566cbbeb84",
   "metadata": {},
   "outputs": [
    {
     "data": {
      "text/plain": [
       "b'c3'"
      ]
     },
     "execution_count": 37,
     "metadata": {},
     "output_type": "execute_result"
    }
   ],
   "source": [
    "redisCon.spop(\"customer:names\")"
   ]
  },
  {
   "cell_type": "markdown",
   "id": "2bd3c657-d061-4e7d-ab0f-ef83cf858155",
   "metadata": {},
   "source": [
    "### 3.4. Checking if Member exists"
   ]
  },
  {
   "cell_type": "code",
   "execution_count": 38,
   "id": "9ec5a190-ad24-451e-925b-3ec73cd9b1e0",
   "metadata": {},
   "outputs": [
    {
     "data": {
      "text/plain": [
       "False"
      ]
     },
     "execution_count": 38,
     "metadata": {},
     "output_type": "execute_result"
    }
   ],
   "source": [
    "redisCon.sismember('customer:names', 'c3')"
   ]
  },
  {
   "cell_type": "code",
   "execution_count": 39,
   "id": "9262c43f-d973-4b4c-9df4-0c793c3cdb75",
   "metadata": {},
   "outputs": [
    {
     "data": {
      "text/plain": [
       "True"
      ]
     },
     "execution_count": 39,
     "metadata": {},
     "output_type": "execute_result"
    }
   ],
   "source": [
    "redisCon.sismember('customer:names', 'c2')"
   ]
  },
  {
   "cell_type": "markdown",
   "id": "11d69a0f-577e-421e-87e0-ca11f6232131",
   "metadata": {},
   "source": [
    "### 3.5. Getting the set length"
   ]
  },
  {
   "cell_type": "code",
   "execution_count": 40,
   "id": "3a8ff6bc-0a40-464c-b863-b3c83cc9ce52",
   "metadata": {},
   "outputs": [
    {
     "data": {
      "text/plain": [
       "2"
      ]
     },
     "execution_count": 40,
     "metadata": {},
     "output_type": "execute_result"
    }
   ],
   "source": [
    "redisCon.scard('customer:names')"
   ]
  },
  {
   "cell_type": "markdown",
   "id": "5e3c90ef-437d-4ac4-a874-3da15a798d30",
   "metadata": {},
   "source": [
    "### 3.6. Sets Intersection"
   ]
  },
  {
   "cell_type": "code",
   "execution_count": 41,
   "id": "7db36f27-f9eb-4421-b9ab-d92d3a49bf3e",
   "metadata": {},
   "outputs": [
    {
     "data": {
      "text/plain": [
       "{b'c1', b'c2'}"
      ]
     },
     "execution_count": 41,
     "metadata": {},
     "output_type": "execute_result"
    }
   ],
   "source": [
    "redisCon.sadd(\"game1:winners\", \"c1\", \"c2\", \"c3\")\n",
    "redisCon.sadd(\"game2:winners\", \"c1\", \"c5\", \"c7\", \"c2\")\n",
    "\n",
    "redisCon.sinter('game1:winners','game2:winners')"
   ]
  },
  {
   "cell_type": "markdown",
   "id": "92964571-2178-4267-963a-78b8bbf7e66f",
   "metadata": {},
   "source": [
    "We can also store the result in a new set:"
   ]
  },
  {
   "cell_type": "code",
   "execution_count": 42,
   "id": "9969071b-ef85-4f90-9f1c-c54eacb4c191",
   "metadata": {},
   "outputs": [
    {
     "data": {
      "text/plain": [
       "{b'c1', b'c2'}"
      ]
     },
     "execution_count": 42,
     "metadata": {},
     "output_type": "execute_result"
    }
   ],
   "source": [
    "redisCon.sinterstore('gameInter:winners', 'game1:winners','game2:winners')\n",
    "redisCon.smembers('gameInter:winners')"
   ]
  },
  {
   "cell_type": "markdown",
   "id": "6970abf4-435b-4427-9377-f02b49fdd256",
   "metadata": {},
   "source": [
    "### 3.7. Sets Difference"
   ]
  },
  {
   "cell_type": "code",
   "execution_count": 43,
   "id": "b015317f-68bc-4135-a1b0-a4978c628f52",
   "metadata": {},
   "outputs": [
    {
     "data": {
      "text/plain": [
       "{b'c3'}"
      ]
     },
     "execution_count": 43,
     "metadata": {},
     "output_type": "execute_result"
    }
   ],
   "source": [
    "redisCon.sadd(\"game1:winners\", \"c1\", \"c2\", \"c3\")\n",
    "redisCon.sadd(\"game2:winners\", \"c1\", \"c5\", \"c7\", \"c2\")\n",
    "\n",
    "redisCon.sdiff('game1:winners','game2:winners')"
   ]
  },
  {
   "cell_type": "markdown",
   "id": "0567868e-9bbb-4178-8a9c-1917e410e6fe",
   "metadata": {},
   "source": [
    "We can also store the result in a new set:"
   ]
  },
  {
   "cell_type": "code",
   "execution_count": 44,
   "id": "3933d375-9f8c-4a11-91ed-9b7da2634796",
   "metadata": {},
   "outputs": [
    {
     "data": {
      "text/plain": [
       "{b'c3'}"
      ]
     },
     "execution_count": 44,
     "metadata": {},
     "output_type": "execute_result"
    }
   ],
   "source": [
    "redisCon.sdiffstore('gameDiff:winners', 'game1:winners','game2:winners')\n",
    "redisCon.smembers('gameDiff:winners')"
   ]
  },
  {
   "cell_type": "markdown",
   "id": "80dc05f8-5b15-4bff-9602-87d40ba19d17",
   "metadata": {
    "tags": []
   },
   "source": [
    "### 3.8. Sets Union"
   ]
  },
  {
   "cell_type": "code",
   "execution_count": 45,
   "id": "6e8a3418-4ce9-48c8-84e7-c79fd59ef17b",
   "metadata": {},
   "outputs": [
    {
     "data": {
      "text/plain": [
       "{b'c1', b'c2', b'c3', b'c5', b'c7'}"
      ]
     },
     "execution_count": 45,
     "metadata": {},
     "output_type": "execute_result"
    }
   ],
   "source": [
    "redisCon.sadd(\"game1:winners\", \"c1\", \"c2\", \"c3\")\n",
    "redisCon.sadd(\"game2:winners\", \"c1\", \"c5\", \"c7\", \"c2\")\n",
    "\n",
    "redisCon.sunion('game1:winners','game2:winners')"
   ]
  },
  {
   "cell_type": "markdown",
   "id": "7e6f6c9d-15db-4be8-a6f9-b95bf91144dd",
   "metadata": {},
   "source": [
    "We can also store the result in a new set:"
   ]
  },
  {
   "cell_type": "code",
   "execution_count": 46,
   "id": "648b5952-6ca4-46d4-83ef-e4640b02db5d",
   "metadata": {},
   "outputs": [
    {
     "data": {
      "text/plain": [
       "{b'c1', b'c2', b'c3', b'c5', b'c7'}"
      ]
     },
     "execution_count": 46,
     "metadata": {},
     "output_type": "execute_result"
    }
   ],
   "source": [
    "redisCon.sunionstore('gameUnion:winners', 'game1:winners','game2:winners')\n",
    "redisCon.smembers('gameUnion:winners')"
   ]
  },
  {
   "cell_type": "markdown",
   "id": "321f694b-37db-41b4-988e-6dab32584305",
   "metadata": {},
   "source": [
    "## 4. Ordered Sets"
   ]
  },
  {
   "cell_type": "markdown",
   "id": "b2b18d70-1b46-4763-aa60-b464112962cd",
   "metadata": {},
   "source": [
    "It's a combination of set and hash.\n",
    "\n",
    "It stores unique strings. For each item, we assign a score."
   ]
  },
  {
   "cell_type": "markdown",
   "id": "2c6987aa-7bdc-4dac-91a5-069c2a1aba65",
   "metadata": {},
   "source": [
    "### 4.1. Creation and Insertion"
   ]
  },
  {
   "cell_type": "markdown",
   "id": "7be817b5-8d4c-4619-89b0-948b44868045",
   "metadata": {},
   "source": [
    "`zadd` allows us to create and insert values.\n",
    "\n",
    "It works as follows:\n",
    "\n",
    "`<conn>.zadd(name=\"<set_name\", mapping: {'item1': 'value', 'item2': 'value2'})`"
   ]
  },
  {
   "cell_type": "code",
   "execution_count": 47,
   "id": "3787a739-0f38-42fe-9771-2872aba6d2fa",
   "metadata": {},
   "outputs": [
    {
     "data": {
      "text/plain": [
       "1"
      ]
     },
     "execution_count": 47,
     "metadata": {},
     "output_type": "execute_result"
    }
   ],
   "source": [
    "redisCon.zadd(\"game:points\", {'p1':'2', 'p2':'5'})"
   ]
  },
  {
   "cell_type": "markdown",
   "id": "e4d895e5-5e21-4d2f-b7a7-c8943c17459d",
   "metadata": {},
   "source": [
    "### 4.2. Visualizing Members"
   ]
  },
  {
   "cell_type": "markdown",
   "id": "91c0f5de-ecf6-4962-94f2-53ee8002062b",
   "metadata": {},
   "source": [
    "Visualizing in ascending order:"
   ]
  },
  {
   "cell_type": "code",
   "execution_count": 48,
   "id": "1f35294b-910d-4984-82b8-750a1b83cd2a",
   "metadata": {},
   "outputs": [
    {
     "data": {
      "text/plain": [
       "[b'p1', b'p2']"
      ]
     },
     "execution_count": 48,
     "metadata": {},
     "output_type": "execute_result"
    }
   ],
   "source": [
    "redisCon.zrange(\"game:points\", 0, -1)"
   ]
  },
  {
   "cell_type": "markdown",
   "id": "cbc2ebd0-7c7d-45aa-baf1-ae9333979559",
   "metadata": {},
   "source": [
    "We can also visualize it with each score:"
   ]
  },
  {
   "cell_type": "code",
   "execution_count": 49,
   "id": "527abfba-fc3c-4d65-9e16-8baf5b9e78c6",
   "metadata": {},
   "outputs": [
    {
     "data": {
      "text/plain": [
       "[(b'p1', 2.0), (b'p2', 5.0)]"
      ]
     },
     "execution_count": 49,
     "metadata": {},
     "output_type": "execute_result"
    }
   ],
   "source": [
    "redisCon.zrange(\"game:points\", 0, -1, withscores=True)"
   ]
  },
  {
   "cell_type": "markdown",
   "id": "a344d987-b11d-4c72-a29f-74bfab24986d",
   "metadata": {},
   "source": [
    "There are two ways to visualize in descendng order.\n",
    "\n",
    "The first one is by passing the desc parameters to True in `zrange`:"
   ]
  },
  {
   "cell_type": "code",
   "execution_count": 50,
   "id": "9478370b-d58a-4687-89c1-cb8685da9c11",
   "metadata": {},
   "outputs": [
    {
     "data": {
      "text/plain": [
       "[(b'p2', 5.0), (b'p1', 2.0)]"
      ]
     },
     "execution_count": 50,
     "metadata": {},
     "output_type": "execute_result"
    }
   ],
   "source": [
    "redisCon.zrange(\"game:points\", 0, -1, desc=True, withscores=True)"
   ]
  },
  {
   "cell_type": "markdown",
   "id": "cdb60e9a-3a29-4efa-8a21-a31822530d3b",
   "metadata": {},
   "source": [
    "The second way is with the `zrevrange` method:"
   ]
  },
  {
   "cell_type": "code",
   "execution_count": 51,
   "id": "6621009e-19de-4688-9399-b4da13ea2347",
   "metadata": {},
   "outputs": [
    {
     "data": {
      "text/plain": [
       "[(b'p2', 5.0), (b'p1', 2.0)]"
      ]
     },
     "execution_count": 51,
     "metadata": {},
     "output_type": "execute_result"
    }
   ],
   "source": [
    "redisCon.zrevrange(\"game:points\", 0, -1, withscores=True)"
   ]
  },
  {
   "cell_type": "markdown",
   "id": "7b5475d7-a0ed-4acb-96a9-197d24409617",
   "metadata": {},
   "source": [
    "### 4.3. Getting the Score of a value"
   ]
  },
  {
   "cell_type": "code",
   "execution_count": 52,
   "id": "f48be69b-7981-4d96-b6ec-76e8631006bb",
   "metadata": {},
   "outputs": [
    {
     "data": {
      "text/plain": [
       "2.0"
      ]
     },
     "execution_count": 52,
     "metadata": {},
     "output_type": "execute_result"
    }
   ],
   "source": [
    "redisCon.zscore(\"game:points\", \"p1\")"
   ]
  },
  {
   "cell_type": "markdown",
   "id": "b8a1b8ae-5e47-4eef-895d-c3e563ef50a2",
   "metadata": {},
   "source": [
    "### 4.4. Getting the size"
   ]
  },
  {
   "cell_type": "code",
   "execution_count": 53,
   "id": "d9c02bdf-ab5e-427e-85c6-6cb63106f662",
   "metadata": {},
   "outputs": [
    {
     "data": {
      "text/plain": [
       "2"
      ]
     },
     "execution_count": 53,
     "metadata": {},
     "output_type": "execute_result"
    }
   ],
   "source": [
    "redisCon.zcard(\"game:points\")"
   ]
  },
  {
   "cell_type": "markdown",
   "id": "d1644b44-e6aa-49ec-9d0d-09b409b1c807",
   "metadata": {},
   "source": [
    "### 4.5. Removing a specific element"
   ]
  },
  {
   "cell_type": "code",
   "execution_count": 54,
   "id": "7c932a15-2c42-4a63-ab19-6b1119a4110c",
   "metadata": {},
   "outputs": [
    {
     "data": {
      "text/plain": [
       "1"
      ]
     },
     "execution_count": 54,
     "metadata": {},
     "output_type": "execute_result"
    }
   ],
   "source": [
    "redisCon.zrem(\"game:points\", \"p1\")"
   ]
  },
  {
   "cell_type": "markdown",
   "id": "a593a7d3-5b8d-48bb-aaad-1c66c36d3eec",
   "metadata": {
    "tags": []
   },
   "source": [
    "## 5. Hashes"
   ]
  },
  {
   "cell_type": "markdown",
   "id": "44f28756-ca4f-444f-9d1a-cf0de19f7550",
   "metadata": {},
   "source": [
    "We'll use an example where we have customer addresses as follows:\n",
    "\n",
    "Custor X Address:\n",
    "- street\n",
    "- number\n",
    "- city\n",
    "- state"
   ]
  },
  {
   "cell_type": "code",
   "execution_count": 55,
   "id": "b8e4e577-338a-40b4-bccc-7166a8a16a27",
   "metadata": {},
   "outputs": [],
   "source": [
    "key_name = \"customer:23:address\""
   ]
  },
  {
   "cell_type": "markdown",
   "id": "1176ce20-1eb3-4a15-ac22-3f8251b7b2dc",
   "metadata": {},
   "source": [
    "### 5.1. Creation"
   ]
  },
  {
   "cell_type": "code",
   "execution_count": 56,
   "id": "c04b5f8f-ecc6-494b-81dd-ad38a4ae602e",
   "metadata": {},
   "outputs": [
    {
     "data": {
      "text/plain": [
       "0"
      ]
     },
     "execution_count": 56,
     "metadata": {},
     "output_type": "execute_result"
    }
   ],
   "source": [
    "redisCon.hset(key_name, \"street\", \"St. Saint Redis\")\n",
    "redisCon.hset(key_name, \"number\", \"14\")\n",
    "redisCon.hset(key_name, \"city\", \"Python\")\n",
    "redisCon.hset(key_name, \"state\", \"Jupyter\")"
   ]
  },
  {
   "cell_type": "markdown",
   "id": "f6b82349-642d-46d6-a02d-67bff45ca4db",
   "metadata": {},
   "source": [
    "### 5.2. Retrieving the value of a field:"
   ]
  },
  {
   "cell_type": "code",
   "execution_count": 57,
   "id": "6a0180df-394a-41e6-9c86-b3de00b713d1",
   "metadata": {},
   "outputs": [
    {
     "name": "stdout",
     "output_type": "stream",
     "text": [
      "[b'14']\n"
     ]
    }
   ],
   "source": [
    "print(redisCon.hmget(key_name, \"number\"))"
   ]
  },
  {
   "cell_type": "markdown",
   "id": "9ac0978b-e6bf-4fe4-8d44-9671d1ab5abc",
   "metadata": {},
   "source": [
    "### 5.3. Retrieving everything"
   ]
  },
  {
   "cell_type": "code",
   "execution_count": 58,
   "id": "39253f3a-3d9e-4794-93ce-ffb4ddfa3cc4",
   "metadata": {},
   "outputs": [
    {
     "data": {
      "text/plain": [
       "{b'street': b'St. Saint Redis',\n",
       " b'city': b'Python',\n",
       " b'state': b'Jupyter',\n",
       " b'number': b'14'}"
      ]
     },
     "execution_count": 58,
     "metadata": {},
     "output_type": "execute_result"
    }
   ],
   "source": [
    "redisCon.hgetall(key_name)"
   ]
  },
  {
   "cell_type": "markdown",
   "id": "5e09a98a-16ce-42ae-9c3e-5e0013ad2363",
   "metadata": {},
   "source": [
    "### 5.4. Getting the number of fields"
   ]
  },
  {
   "cell_type": "code",
   "execution_count": 59,
   "id": "c0b7c29e-7c33-407d-8fbf-612792f2b4d2",
   "metadata": {},
   "outputs": [
    {
     "data": {
      "text/plain": [
       "4"
      ]
     },
     "execution_count": 59,
     "metadata": {},
     "output_type": "execute_result"
    }
   ],
   "source": [
    "redisCon.hlen(key_name)"
   ]
  },
  {
   "cell_type": "markdown",
   "id": "f05d2443-1dcc-47b0-98df-677faf5fa458",
   "metadata": {},
   "source": [
    "### 5.5. Retrieve all Fields"
   ]
  },
  {
   "cell_type": "code",
   "execution_count": 60,
   "id": "c4685e4f-12f6-41c8-9bc6-5e0ecd31b9f4",
   "metadata": {},
   "outputs": [
    {
     "data": {
      "text/plain": [
       "[b'street', b'city', b'state', b'number']"
      ]
     },
     "execution_count": 60,
     "metadata": {},
     "output_type": "execute_result"
    }
   ],
   "source": [
    "redisCon.hkeys(key_name)"
   ]
  },
  {
   "cell_type": "markdown",
   "id": "2f18aa30-3b79-4678-9df3-4c5ba7b8def4",
   "metadata": {},
   "source": [
    "### 5.6. Retrieving all Values"
   ]
  },
  {
   "cell_type": "code",
   "execution_count": 61,
   "id": "352cf913-eb65-44be-a4b6-627722ff2288",
   "metadata": {},
   "outputs": [
    {
     "data": {
      "text/plain": [
       "[b'St. Saint Redis', b'Python', b'Jupyter', b'14']"
      ]
     },
     "execution_count": 61,
     "metadata": {},
     "output_type": "execute_result"
    }
   ],
   "source": [
    "redisCon.hvals(key_name)"
   ]
  },
  {
   "cell_type": "markdown",
   "id": "4ec19138-c041-42a6-9b0a-f39d3668e75e",
   "metadata": {},
   "source": [
    "### 5.7. Deleting a field"
   ]
  },
  {
   "cell_type": "code",
   "execution_count": 62,
   "id": "96c15783-c8d4-49fe-810e-0e6e0b79f0f6",
   "metadata": {},
   "outputs": [
    {
     "data": {
      "text/plain": [
       "1"
      ]
     },
     "execution_count": 62,
     "metadata": {},
     "output_type": "execute_result"
    }
   ],
   "source": [
    "redisCon.hdel(key_name, \"number\")"
   ]
  }
 ],
 "metadata": {
  "kernelspec": {
   "display_name": "Python 3 (ipykernel)",
   "language": "python",
   "name": "python3"
  },
  "language_info": {
   "codemirror_mode": {
    "name": "ipython",
    "version": 3
   },
   "file_extension": ".py",
   "mimetype": "text/x-python",
   "name": "python",
   "nbconvert_exporter": "python",
   "pygments_lexer": "ipython3",
   "version": "3.10.6"
  }
 },
 "nbformat": 4,
 "nbformat_minor": 5
}
